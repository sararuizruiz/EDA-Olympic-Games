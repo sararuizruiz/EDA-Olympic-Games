{
 "cells": [
  {
   "cell_type": "code",
   "execution_count": 2,
   "id": "53cab2ad-1e57-4b6e-81db-eb0c047526ca",
   "metadata": {},
   "outputs": [],
   "source": [
    "import mysql\n",
    "import mysql.connector as connection\n",
    "from mysql.connector import Error\n",
    "from mysecrets import pw\n",
    "\n",
    "import pandas as pd"
   ]
  },
  {
   "cell_type": "markdown",
   "id": "c4fd925c",
   "metadata": {},
   "source": [
    "Let's create a function to directly connect to our MySQL Database that contains the raw data."
   ]
  },
  {
   "cell_type": "code",
   "execution_count": 4,
   "id": "94b61a4e-ef49-47ad-a179-bb6a61a63b22",
   "metadata": {},
   "outputs": [
    {
     "name": "stdout",
     "output_type": "stream",
     "text": [
      "MySQL Database connection successful\n"
     ]
    }
   ],
   "source": [
    "def create_db_connection(host_name, user_name, user_password, db_name):\n",
    "    connection = None\n",
    "    try:\n",
    "        connection = mysql.connector.connect(\n",
    "            host=host_name,\n",
    "            user=user_name,\n",
    "            passwd=user_password,\n",
    "            database=db_name\n",
    "        )\n",
    "        print(\"MySQL Database connection successful\")\n",
    "    except Error as err:\n",
    "        print(f\"Error: '{err}'\")\n",
    "\n",
    "    return connection\n",
    "\n",
    "connection = create_db_connection(\"localhost\", \"root\", pw, \"SportsStats\")"
   ]
  },
  {
   "cell_type": "markdown",
   "id": "85e974c1",
   "metadata": {},
   "source": [
    "And we define this function that will let us execute any SQL query contained in a String upon the database through the MySQL connection we previously defined."
   ]
  },
  {
   "cell_type": "code",
   "execution_count": 5,
   "id": "07c2b1af",
   "metadata": {},
   "outputs": [],
   "source": [
    "def execute_query(connection, query):\n",
    "    cursor = connection.cursor()\n",
    "    try:\n",
    "        cursor.execute(query)\n",
    "        connection.commit()\n",
    "        print(\"Query successful\")\n",
    "    except Error as err:\n",
    "        print(f\"Error: '{err}'\")"
   ]
  }
 ],
 "metadata": {
  "kernelspec": {
   "display_name": "Python 3 (ipykernel)",
   "language": "python",
   "name": "python3"
  },
  "language_info": {
   "codemirror_mode": {
    "name": "ipython",
    "version": 3
   },
   "file_extension": ".py",
   "mimetype": "text/x-python",
   "name": "python",
   "nbconvert_exporter": "python",
   "pygments_lexer": "ipython3",
   "version": "3.12.0"
  }
 },
 "nbformat": 4,
 "nbformat_minor": 5
}
